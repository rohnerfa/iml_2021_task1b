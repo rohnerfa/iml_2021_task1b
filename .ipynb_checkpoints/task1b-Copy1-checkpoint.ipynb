{
 "cells": [
  {
   "cell_type": "code",
   "execution_count": 7,
   "id": "pressing-antarctica",
   "metadata": {},
   "outputs": [],
   "source": [
    "import numpy as np\n",
    "import pandas as pd\n",
    "from sklearn import linear_model\n",
    "from sklearn.metrics import mean_squared_error\n",
    "import matplotlib.pyplot as plt\n",
    "\n",
    "#import the data\n",
    "data = pd.read_csv('train.csv',index_col='Id')\n",
    "\n",
    "#extract X and y\n",
    "y = data['y'].to_numpy()\n",
    "X = data.drop(['y'],axis=1).to_numpy()\n",
    "\n",
    "#transform X and y\n",
    "X_transformed = np.concatenate((X,np.square(X),np.exp(X),np.cos(X),np.ones((y.size,1))),axis=1)"
   ]
  },
  {
   "cell_type": "code",
   "execution_count": 12,
   "id": "golden-potter",
   "metadata": {},
   "outputs": [
    {
     "name": "stdout",
     "output_type": "stream",
     "text": [
      "The RMSE is: 2.0300419561420835.\n"
     ]
    }
   ],
   "source": [
    "from sklearn.kernel_ridge import KernelRidge\n",
    "model = KernelRidge(alpha=666, kernel='linear').fit(X_transformed,y)\n",
    "print(f'The RMSE is: {mean_squared_error(y,model.predict(X_transformed),squared=False)}.')"
   ]
  },
  {
   "cell_type": "code",
   "execution_count": 13,
   "id": "graduate-measurement",
   "metadata": {},
   "outputs": [
    {
     "name": "stdout",
     "output_type": "stream",
     "text": [
      "The coefficients for this model are:\n",
      "[ 0.0331335   0.02035127  0.02093158  0.16127204  0.03319552 -0.01512167\n",
      " -0.00798463 -0.00370298 -0.05898802 -0.00297484 -0.54132676 -0.55057188\n",
      " -0.5478688  -0.43201419 -0.53525829 -0.55947627 -0.56302094 -0.56515005\n",
      " -0.5378627  -0.5655079  -0.56699905]\n"
     ]
    }
   ],
   "source": [
    "coef = np.matmul(np.transpose(X_transformed),model.dual_coef_)\n",
    "print(f'The coefficients for this model are:\\n{coef}')"
   ]
  },
  {
   "cell_type": "code",
   "execution_count": 14,
   "id": "starting-valuable",
   "metadata": {},
   "outputs": [],
   "source": [
    "#write output\n",
    "submission = pd.Series(coef)\n",
    "submission.to_csv('submission_kernel_ridge_666.csv', index=False, header=False)"
   ]
  },
  {
   "cell_type": "code",
   "execution_count": null,
   "id": "stainless-trout",
   "metadata": {},
   "outputs": [],
   "source": []
  }
 ],
 "metadata": {
  "kernelspec": {
   "display_name": "Python 3",
   "language": "python",
   "name": "python3"
  },
  "language_info": {
   "codemirror_mode": {
    "name": "ipython",
    "version": 3
   },
   "file_extension": ".py",
   "mimetype": "text/x-python",
   "name": "python",
   "nbconvert_exporter": "python",
   "pygments_lexer": "ipython3",
   "version": "3.9.2"
  }
 },
 "nbformat": 4,
 "nbformat_minor": 5
}
