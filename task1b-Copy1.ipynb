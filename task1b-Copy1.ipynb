{
 "cells": [
  {
   "cell_type": "code",
   "execution_count": 1,
   "id": "pressing-antarctica",
   "metadata": {},
   "outputs": [],
   "source": [
    "import numpy as np\n",
    "import pandas as pd\n",
    "from sklearn import linear_model\n",
    "from sklearn.metrics import mean_squared_error\n",
    "import matplotlib.pyplot as plt\n",
    "\n",
    "#import the data\n",
    "data = pd.read_csv('train.csv',index_col='Id')\n",
    "\n",
    "#extract X and y\n",
    "y = data['y'].to_numpy()\n",
    "X = data.drop(['y'],axis=1).to_numpy()\n",
    "\n",
    "#transform X and y\n",
    "X_transformed = np.concatenate((X,np.square(X),np.exp(X),np.cos(X),np.ones((y.size,1))),axis=1)"
   ]
  },
  {
   "cell_type": "code",
   "execution_count": 2,
   "id": "golden-potter",
   "metadata": {},
   "outputs": [
    {
     "name": "stdout",
     "output_type": "stream",
     "text": [
      "The RMSE is: 1.9506086412147003.\n"
     ]
    }
   ],
   "source": [
    "a = np.logspace(-3,3,100)\n",
    "model = linear_model.RidgeCV(alphas=a, fit_intercept=False, scoring='neg_mean_squared_error',cv=5).fit(X_transformed,y)\n",
    "print(f'The RMSE is: {mean_squared_error(y,model.predict(X_transformed),squared=False)}.')"
   ]
  },
  {
   "cell_type": "code",
   "execution_count": 3,
   "id": "graduate-measurement",
   "metadata": {},
   "outputs": [
    {
     "name": "stdout",
     "output_type": "stream",
     "text": [
      "The coefficients for this model are:\n",
      "[ 0.11525326 -0.2634949  -0.38665471  0.21583855  0.0786774  -0.12691488\n",
      "  0.0667029   0.07191108 -0.10746287  0.02339787 -0.5208932  -0.80268256\n",
      " -0.92503447 -0.40621061 -0.48347572 -0.50773435 -0.60394931 -0.60651429\n",
      " -0.5180839  -0.58193205 -0.57079219]\n"
     ]
    }
   ],
   "source": [
    "coef = model.coef_\n",
    "print(f'The coefficients for this model are:\\n{coef}')"
   ]
  },
  {
   "cell_type": "code",
   "execution_count": 4,
   "id": "starting-valuable",
   "metadata": {},
   "outputs": [],
   "source": [
    "#write output\n",
    "submission = pd.Series(coef)\n",
    "submission.to_csv('submission_final.csv', index=False, header=False)"
   ]
  }
 ],
 "metadata": {
  "kernelspec": {
   "display_name": "Python 3",
   "language": "python",
   "name": "python3"
  },
  "language_info": {
   "codemirror_mode": {
    "name": "ipython",
    "version": 3
   },
   "file_extension": ".py",
   "mimetype": "text/x-python",
   "name": "python",
   "nbconvert_exporter": "python",
   "pygments_lexer": "ipython3",
   "version": "3.9.2"
  }
 },
 "nbformat": 4,
 "nbformat_minor": 5
}
